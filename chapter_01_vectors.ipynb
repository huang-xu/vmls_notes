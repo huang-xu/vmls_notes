{
 "cells": [
  {
   "cell_type": "markdown",
   "metadata": {},
   "source": [
    "# Chapter 1. Vectors\n",
    "## 1.1 Vectors\n",
    "* vectors\n",
    "* stacked vectors\n",
    "* subvectors\n",
    "* indexing\n",
    "* zero vectors\n",
    "* init vectors\n",
    "* ones vectors\n",
    "* sparsity"
   ]
  },
  {
   "cell_type": "code",
   "execution_count": 1,
   "metadata": {},
   "outputs": [],
   "source": [
    "import numpy as np\n",
    "import matplotlib.pyplot as plt\n",
    "%matplotlib inline"
   ]
  },
  {
   "cell_type": "code",
   "execution_count": 2,
   "metadata": {},
   "outputs": [
    {
     "data": {
      "text/plain": [
       "(array([-1.1,  0. ,  3.6, -7.2]), array([ 1.3]))"
      ]
     },
     "execution_count": 2,
     "metadata": {},
     "output_type": "execute_result"
    }
   ],
   "source": [
    "# vectors\n",
    "b = np.array([-1.1, 0.0, 3.6, -7.2])\n",
    "c = np.array([1.3])\n",
    "b, c"
   ]
  },
  {
   "cell_type": "code",
   "execution_count": 3,
   "metadata": {},
   "outputs": [
    {
     "data": {
      "text/plain": [
       "array([-1.1,  0. ,  3.6, -7.2,  1.3])"
      ]
     },
     "execution_count": 3,
     "metadata": {},
     "output_type": "execute_result"
    }
   ],
   "source": [
    "# stacked vectors\n",
    "a = np.hstack([b, c])\n",
    "a"
   ]
  },
  {
   "cell_type": "code",
   "execution_count": 4,
   "metadata": {},
   "outputs": [
    {
     "data": {
      "text/plain": [
       "array([-7.2,  1.3])"
      ]
     },
     "execution_count": 4,
     "metadata": {},
     "output_type": "execute_result"
    }
   ],
   "source": [
    "# subvectors\n",
    "a[3:5]"
   ]
  },
  {
   "cell_type": "code",
   "execution_count": 5,
   "metadata": {},
   "outputs": [
    {
     "data": {
      "text/plain": [
       "-1.1000000000000001"
      ]
     },
     "execution_count": 5,
     "metadata": {},
     "output_type": "execute_result"
    }
   ],
   "source": [
    "# indexing\n",
    "a[0]"
   ]
  },
  {
   "cell_type": "code",
   "execution_count": 6,
   "metadata": {},
   "outputs": [
    {
     "data": {
      "text/plain": [
       "array([ 0.,  0.,  0.,  0.,  0.,  0.,  0.,  0.,  0.])"
      ]
     },
     "execution_count": 6,
     "metadata": {},
     "output_type": "execute_result"
    }
   ],
   "source": [
    "# zero vectors\n",
    "np.zeros(9)"
   ]
  },
  {
   "cell_type": "code",
   "execution_count": 7,
   "metadata": {},
   "outputs": [
    {
     "name": "stdout",
     "output_type": "stream",
     "text": [
      "[ 1.  0.  0.] [ 0.  1.  0.] [ 0.  0.  1.]\n"
     ]
    }
   ],
   "source": [
    "# unit vectors\n",
    "e1, e2, e3 = np.identity(3)\n",
    "print(e1, e2, e3)"
   ]
  },
  {
   "cell_type": "code",
   "execution_count": 8,
   "metadata": {},
   "outputs": [
    {
     "data": {
      "text/plain": [
       "array([ 1.,  1.,  1.,  1.,  1.])"
      ]
     },
     "execution_count": 8,
     "metadata": {},
     "output_type": "execute_result"
    }
   ],
   "source": [
    "# ones vectors\n",
    "np.ones(5)"
   ]
  },
  {
   "cell_type": "code",
   "execution_count": 9,
   "metadata": {},
   "outputs": [
    {
     "data": {
      "text/plain": [
       "(array([0, 2, 3, 4], dtype=int64),)"
      ]
     },
     "execution_count": 9,
     "metadata": {},
     "output_type": "execute_result"
    }
   ],
   "source": [
    "# sparsity\n",
    "np.nonzero(a)"
   ]
  },
  {
   "cell_type": "code",
   "execution_count": 10,
   "metadata": {},
   "outputs": [
    {
     "data": {
      "text/plain": [
       "Text(0.5,0.55,'$x$')"
      ]
     },
     "execution_count": 10,
     "metadata": {},
     "output_type": "execute_result"
    },
    {
     "data": {
      "image/png": "[encoded data removed]",
      "text/plain": [
       "<Figure size 720x288 with 2 Axes>"
      ]
     },
     "metadata": {},
     "output_type": "display_data"
    }
   ],
   "source": [
    "# Figure 1.1\n",
    "plt.rc('mathtext', fontset='cm')\n",
    "plt.figure(figsize=[10, 4])\n",
    "ax = plt.subplot(1,2,1)\n",
    "plt.vlines(1, 0, 1, color='gray')\n",
    "plt.hlines(1, 0, 1, color='gray')\n",
    "plt.scatter(1,1, color='b')\n",
    "plt.xlim(0, 1.1)\n",
    "plt.ylim(0, 1.1)\n",
    "plt.xticks([1], [\"$x_1$\"], fontsize=20)\n",
    "plt.yticks([1], ['$x_2$'], fontsize=20)\n",
    "ax.spines['right'].set_visible(False)\n",
    "ax.spines['top'].set_visible(False)\n",
    "plt.subplot(1,2,2)\n",
    "plt.axis('off')\n",
    "plt.vlines([1, 0], [0,0], [1,1], color='gray')\n",
    "plt.hlines([1, 0], [0,0], [1,1], color='gray')\n",
    "plt.text(0.5, -0.07, \"$x_1$\", fontsize=20)\n",
    "plt.text( -0.09,0.5, \"$x_2$\", fontsize=20)\n",
    "plt.xlim(0, 1.1)\n",
    "plt.ylim(0, 1.1)\n",
    "plt.annotate(\"\", xy=(1, 1), xytext=(0, 0), arrowprops=dict(arrowstyle=\"->\", color='blue'))\n",
    "plt.text(0.5, 0.55, \"$x$\", fontsize=20)"
   ]
  },
  {
   "cell_type": "code",
   "execution_count": 11,
   "metadata": {},
   "outputs": [
    {
     "data": {
      "image/png": "[encoded data removed]",
      "text/plain": [
       "<Figure size 432x288 with 6 Axes>"
      ]
     },
     "metadata": {},
     "output_type": "display_data"
    }
   ],
   "source": [
    "# fig 1.2\n",
    "def colorp(k, color, hint):\n",
    "    plt.subplot(2,3,k)\n",
    "    plt.fill_between([0,1], 0, 1, color=color)\n",
    "    plt.axis('off')\n",
    "    plt.text(0.2, -0.1, hint)\n",
    "colorp(1, '#FF0000', '(1, 0, 0)')\n",
    "colorp(2, '#00FF00', '(0, 1, 0)')\n",
    "colorp(3, '#0000FF', '(0, 0, 1)')\n",
    "colorp(4, '#FFFF00', '(1, 1, 0)')\n",
    "colorp(5, '#FF7F7F', '(1, 0.5, 0.5)')\n",
    "colorp(6, '#7F7F7F', '(0.5, 0.5, 0.5)')"
   ]
  },
  {
   "cell_type": "code",
   "execution_count": 12,
   "metadata": {},
   "outputs": [
    {
     "data": {
      "text/plain": [
       "(65, 90)"
      ]
     },
     "execution_count": 12,
     "metadata": {},
     "output_type": "execute_result"
    },
    {
     "data": {
      "image/png": "[encoded data removed]",
      "text/plain": [
       "<Figure size 432x288 with 1 Axes>"
      ]
     },
     "metadata": {},
     "output_type": "display_data"
    }
   ],
   "source": [
    "# fig1.3\n",
    "temperatures = np.array([21.7, 21.7, 20.0, 20.6, 20.0, 20.6, 20.0, 23.3, \n",
    "                         25.0, 27.8, 29.4, 30.0, 31.1, 30.0, 29.4, 30.0, \n",
    "                         28.9, 26.1, 25.0, 23.9, 22.8, 21.7, 21.1, 21.1, \n",
    "                         20.6, 20.6, 20.6, 20.6, 19.4, 20.0, 20.0, 22.8,\n",
    "                         24.4, 25.0, 27.8, 28.9, 28.9, 27.2, 26.7, 25.6, \n",
    "                         26.1, 25.6, 22.8, 22.2, 21.1, 21.1, 20.0, 19.4])\n",
    "Fs = temperatures*1.8 + 32\n",
    "plt.plot(Fs, marker='o', color='blue')\n",
    "plt.xlim([0, 50])\n",
    "plt.ylim([65, 90])"
   ]
  },
  {
   "cell_type": "code",
   "execution_count": 13,
   "metadata": {},
   "outputs": [
    {
     "data": {
      "text/plain": [
       "(-0.5, 7.5, 4.5, -0.5)"
      ]
     },
     "execution_count": 13,
     "metadata": {},
     "output_type": "execute_result"
    },
    {
     "data": {
      "image/png": "[encoded data removed]",
      "text/plain": [
       "<Figure size 432x288 with 1 Axes>"
      ]
     },
     "metadata": {},
     "output_type": "display_data"
    }
   ],
   "source": [
    "arr= np.array([0.65, 0.05, 0.2, 0.95, 0.19, 0.98, 0.24, 0.16,\n",
    "               0.51, 0.43, 0.1, 0.35, 0.15, 0.29, 0.91, 0.31,\n",
    "               0.78, 0.98, 0.8, 0.91, 0.12, 0.21, 0.34, 0.43,\n",
    "               0.21, 0.34, 0.5, 0.21, 0.45, 0.34, 0.43, 0.72,\n",
    "               0.12, 0.34, 0.3, 0.43, 0.73, 0.92, 0.45, 0.24])\n",
    "plt.imshow(arr.reshape(-1, 8), cmap='gray')\n",
    "plt.axis('off')"
   ]
  },
  {
   "cell_type": "markdown",
   "metadata": {},
   "source": [
    "## 1.2 Vector Addition"
   ]
  },
  {
   "cell_type": "code",
   "execution_count": 14,
   "metadata": {},
   "outputs": [
    {
     "data": {
      "text/plain": [
       "array([1, 9, 3])"
      ]
     },
     "execution_count": 14,
     "metadata": {},
     "output_type": "execute_result"
    }
   ],
   "source": [
    "x = np.array([0, 7, 3])\n",
    "y = np.array([1, 2, 0])\n",
    "x + y"
   ]
  },
  {
   "cell_type": "code",
   "execution_count": 15,
   "metadata": {},
   "outputs": [
    {
     "data": {
      "text/plain": [
       "array([0, 8])"
      ]
     },
     "execution_count": 15,
     "metadata": {},
     "output_type": "execute_result"
    }
   ],
   "source": [
    "np.array([1, 9]) - np.array([1, 1])"
   ]
  },
  {
   "cell_type": "code",
   "execution_count": null,
   "metadata": {},
   "outputs": [],
   "source": []
  }
 ],
 "metadata": {
  "kernelspec": {
   "display_name": "Python 3",
   "language": "python",
   "name": "python3"
  },
  "language_info": {
   "codemirror_mode": {
    "name": "ipython",
    "version": 3
   },
   "file_extension": ".py",
   "mimetype": "text/x-python",
   "name": "python",
   "nbconvert_exporter": "python",
   "pygments_lexer": "ipython3",
   "version": "3.6.2"
  }
 },
 "nbformat": 4,
 "nbformat_minor": 2
}
